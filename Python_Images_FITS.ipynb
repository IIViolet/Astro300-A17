{
 "cells": [
  {
   "cell_type": "markdown",
   "metadata": {},
   "source": [
    "## FITS file (Flexible Image Transport System) - Standard Astro Data Format\n",
    "\n",
    "FITS (Flexible Image Transport System) is the data format most widely used within astronomy for transporting, analyzing, and archiving scientific data files. FITS is much more than just another image format (such as JPG or GIF) and is primarily designed to store scientific data sets consisting of multidimensional arrays (images) and 2-dimensional tables organized into rows and columns of information."
   ]
  },
  {
   "cell_type": "code",
   "execution_count": null,
   "metadata": {},
   "outputs": [],
   "source": [
    "%matplotlib inline\n",
    "\n",
    "import numpy as np\n",
    "import matplotlib.pyplot as plt\n",
    "\n",
    "import astropy.io.fits as fits"
   ]
  },
  {
   "cell_type": "code",
   "execution_count": null,
   "metadata": {},
   "outputs": [],
   "source": [
    "plt.style.use('ggplot')\n",
    "plt.rc('axes', grid=False)   # turn off the background grid for images"
   ]
  },
  {
   "cell_type": "markdown",
   "metadata": {},
   "source": [
    "## FITS files consist of at least two parts - `Header` and `Data`\n",
    "\n",
    "* A FITS file is comprised of segments called Header/Data Units (HDUs), where the first HDU is called the `Primary HDU`.\n",
    "* The primary data array can contain a 1-D spectrum, a 2-D image, or a 3-D data cube.\n",
    "* Every HDU consists of an ASCII formatted `Header Unit`. \n",
    "* Each header unit contains a sequence of fixed-length 80-character keyword (`Cards`)"
   ]
  },
  {
   "cell_type": "code",
   "execution_count": null,
   "metadata": {},
   "outputs": [],
   "source": [
    "data_file = \"./MyData/bsg01.fits\"\n",
    "\n",
    "my_fits_file = fits.open(data_file)\n",
    "\n",
    "my_fits_file.info()"
   ]
  },
  {
   "cell_type": "code",
   "execution_count": null,
   "metadata": {},
   "outputs": [],
   "source": [
    "image_data = my_fits_file[0].data\n",
    "image_header = my_fits_file[0].header"
   ]
  },
  {
   "cell_type": "code",
   "execution_count": null,
   "metadata": {},
   "outputs": [],
   "source": [
    "image_header"
   ]
  },
  {
   "cell_type": "code",
   "execution_count": null,
   "metadata": {},
   "outputs": [],
   "source": [
    "print(\"The image has a shape [height,width] of {0}\".format(image_data.shape))\n",
    "print(\"The image is made up of data of type {0}\".format(image_data.dtype))"
   ]
  },
  {
   "cell_type": "markdown",
   "metadata": {},
   "source": [
    "## FITS format preserves the full dynamic range of data"
   ]
  },
  {
   "cell_type": "code",
   "execution_count": null,
   "metadata": {},
   "outputs": [],
   "source": [
    "print(\"The image has a maximum value of {0}\".format(image_data.max()))\n",
    "print(\"The image has a minimum value of {0}\".format(image_data.min()))"
   ]
  },
  {
   "cell_type": "code",
   "execution_count": null,
   "metadata": {},
   "outputs": [],
   "source": [
    "fig, ax = plt.subplots(1,2)\n",
    "\n",
    "fig.set_size_inches(12,6)\n",
    "\n",
    "fig.tight_layout()\n",
    "\n",
    "ax[0].imshow(image_data,cmap=plt.cm.gray)\n",
    "\n",
    "ax[1].hist(image_data.flatten(),bins=20);"
   ]
  },
  {
   "cell_type": "markdown",
   "metadata": {},
   "source": [
    "## You can use masks on images"
   ]
  },
  {
   "cell_type": "code",
   "execution_count": null,
   "metadata": {},
   "outputs": [],
   "source": [
    "copy_data = np.copy(image_data)        # make a copy of the data to work with\n",
    "\n",
    "cut_off = 40\n",
    "\n",
    "mask = np.where(copy_data > cut_off)\n",
    "copy_data[mask] = 60                   # You can not just throw data away, you have to set it to something."
   ]
  },
  {
   "cell_type": "code",
   "execution_count": null,
   "metadata": {},
   "outputs": [],
   "source": [
    "print(\"The cropped image has a maximum value of {0}\".format(copy_data.max()))\n",
    "print(\"The cropped image has a minimum value of {0}\".format(copy_data.min()))"
   ]
  },
  {
   "cell_type": "markdown",
   "metadata": {},
   "source": [
    "#### You can use specific bins for histograms"
   ]
  },
  {
   "cell_type": "code",
   "execution_count": null,
   "metadata": {},
   "outputs": [],
   "source": [
    "my_bins = np.arange(0,110,5)\n",
    "\n",
    "my_bins"
   ]
  },
  {
   "cell_type": "code",
   "execution_count": null,
   "metadata": {},
   "outputs": [],
   "source": [
    "fig, ax = plt.subplots(1,2)\n",
    "\n",
    "fig.set_size_inches(12,6)\n",
    "\n",
    "fig.tight_layout()\n",
    "\n",
    "ax[0].imshow(copy_data,cmap=plt.cm.gray)\n",
    "\n",
    "ax[1].hist(image_data.flatten(),bins=my_bins)\n",
    "ax[1].hist(copy_data.flatten(),bins=my_bins, alpha = 0.40);"
   ]
  },
  {
   "cell_type": "markdown",
   "metadata": {},
   "source": [
    "## You can add and subtract images"
   ]
  },
  {
   "cell_type": "code",
   "execution_count": null,
   "metadata": {},
   "outputs": [],
   "source": [
    "another_image_file = \"./MyData/bsg02.fits\"\n",
    "\n",
    "another_image_data = fits.getdata(another_image_file)     # a quick way to just get the data"
   ]
  },
  {
   "cell_type": "code",
   "execution_count": null,
   "metadata": {},
   "outputs": [],
   "source": [
    "fig, ax = plt.subplots(1,2)\n",
    "fig.set_size_inches(12,6)\n",
    "\n",
    "fig.tight_layout()\n",
    "\n",
    "ax[0].set_title(\"Original Image\")\n",
    "ax[1].set_title(\"Another Image\")\n",
    "\n",
    "ax[0].imshow(image_data, cmap=plt.cm.gray)\n",
    "ax[1].imshow(another_image_data, cmap=plt.cm.gray);"
   ]
  },
  {
   "cell_type": "markdown",
   "metadata": {},
   "source": [
    "## The two images above may look the same but they are not!\n",
    "\n",
    "### Subtracting the two images reveals the truth."
   ]
  },
  {
   "cell_type": "code",
   "execution_count": null,
   "metadata": {},
   "outputs": [],
   "source": [
    "real_image = image_data - another_image_data                 # Subtract the images pixel by pixel"
   ]
  },
  {
   "cell_type": "code",
   "execution_count": null,
   "metadata": {},
   "outputs": [],
   "source": [
    "fig, ax = plt.subplots(1,3)\n",
    "fig.set_size_inches(12,6)\n",
    "\n",
    "fig.tight_layout()\n",
    "\n",
    "ax[0].set_title(\"Original Image\")\n",
    "ax[1].set_title(\"Another Image\")\n",
    "ax[2].set_title(\"Real Image!\")\n",
    "\n",
    "ax[0].imshow(image_data, cmap=plt.cm.gray)\n",
    "ax[1].imshow(another_image_data, cmap=plt.cm.gray);\n",
    "ax[2].imshow(real_image, cmap=plt.cm.gray);"
   ]
  },
  {
   "cell_type": "code",
   "execution_count": null,
   "metadata": {},
   "outputs": [],
   "source": [
    "print(\"The real image has a maximum value of {0}\".format(real_image.max()))\n",
    "print(\"The real image has a minimum value of {0}\".format(real_image.min()))"
   ]
  },
  {
   "cell_type": "markdown",
   "metadata": {},
   "source": [
    "---\n",
    "## FITS Tables - An astronomical example\n",
    "\n",
    "* Stellar spectra data from the [ESO Library of Stellar Spectra](http://www.eso.org/sci/facilities/paranal/decommissioned/isaac/tools/lib.html)"
   ]
  },
  {
   "cell_type": "code",
   "execution_count": null,
   "metadata": {},
   "outputs": [],
   "source": [
    "my_spectra_file = './MyData/Star_G5.fits'\n",
    "\n",
    "my_spectra_fits = fits.open(my_spectra_file)\n",
    "\n",
    "my_spectra_fits.info()"
   ]
  },
  {
   "cell_type": "code",
   "execution_count": null,
   "metadata": {},
   "outputs": [],
   "source": [
    "spectra_data = my_spectra_fits[0].data\n",
    "spectra_header = my_spectra_fits[0].header"
   ]
  },
  {
   "cell_type": "code",
   "execution_count": null,
   "metadata": {},
   "outputs": [],
   "source": [
    "spectra_header[0:15]"
   ]
  },
  {
   "cell_type": "code",
   "execution_count": null,
   "metadata": {},
   "outputs": [],
   "source": [
    "# The FITS header has the information to make an array of wavelengths\n",
    "\n",
    "start_wavelength = spectra_header['CRVAL1']\n",
    "num_of_points = spectra_header['NAXIS1']\n",
    "width_of_points  = spectra_header['CDELT1']\n",
    "\n",
    "end_wavelength = start_wavelength + (num_of_points * width_of_points)\n",
    "\n",
    "wavelength_range = np.arange(start_wavelength,end_wavelength,width_of_points)"
   ]
  },
  {
   "cell_type": "code",
   "execution_count": null,
   "metadata": {},
   "outputs": [],
   "source": [
    "fig, ax = plt.subplots(2,1)\n",
    "fig.set_size_inches(11,8.5)\n",
    "\n",
    "fig.tight_layout()\n",
    "\n",
    "# Full spectra\n",
    "\n",
    "ax[0].plot(wavelength_range, spectra_data, color='b')\n",
    "ax[0].set_ylabel(\"Flux\")\n",
    "ax[0].set_xlabel(\"Wavelength [angstroms]\")\n",
    "\n",
    "# Just the visible range with the hydrogen Balmer lines\n",
    "\n",
    "ax[1].set_xlim(4000,7000)\n",
    "ax[1].set_ylim(0.6,1.2)\n",
    "ax[1].plot(wavelength_range, spectra_data, color='b')\n",
    "ax[1].set_ylabel(\"Flux\")\n",
    "ax[1].set_xlabel(\"Wavelength [angstroms]\")\n",
    "\n",
    "H_Balmer = [6563,4861,4341,4102,3970,3889,3835,3646]\n",
    "\n",
    "ax[1].vlines(H_Balmer,0,2, color='r', linewidth=3, alpha = 0.25);"
   ]
  },
  {
   "cell_type": "markdown",
   "metadata": {},
   "source": [
    "## Stellar spectral classes"
   ]
  },
  {
   "cell_type": "code",
   "execution_count": null,
   "metadata": {},
   "outputs": [],
   "source": [
    "import glob\n",
    "\n",
    "star_list = glob.glob('./MyData/Star_*5.fits')\n",
    "\n",
    "star_list"
   ]
  },
  {
   "cell_type": "code",
   "execution_count": null,
   "metadata": {},
   "outputs": [],
   "source": [
    "fig, ax = plt.subplots(1,1)\n",
    "fig.set_size_inches(9,5)\n",
    "\n",
    "fig.tight_layout()\n",
    "\n",
    "# Full spectra\n",
    "\n",
    "ax.set_ylabel(\"Flux\")\n",
    "ax.set_xlabel(\"Wavelength [angstroms]\")\n",
    "ax.set_ylim(0.0, 1.05)\n",
    "\n",
    "for file in star_list:\n",
    "        \n",
    "    spectra = fits.getdata(file)\n",
    "    \n",
    "    spectra_normalized = spectra / spectra.max()\n",
    "    \n",
    "    ax.plot(wavelength_range, spectra_normalized, label=file)\n",
    "\n",
    "ax.legend(loc=0,shadow=True);   "
   ]
  },
  {
   "cell_type": "markdown",
   "metadata": {},
   "source": [
    "---\n",
    "## FITS Images - An astronomical example"
   ]
  },
  {
   "cell_type": "code",
   "execution_count": null,
   "metadata": {},
   "outputs": [],
   "source": [
    "star_file = \"./MyData/star_field.fits\"\n",
    "\n",
    "star_fits_file = fits.open(star_file)\n",
    "\n",
    "star_fits_file.info()"
   ]
  },
  {
   "cell_type": "code",
   "execution_count": null,
   "metadata": {},
   "outputs": [],
   "source": [
    "star_data = star_fits_file[0].data\n",
    "star_header = star_fits_file[0].header"
   ]
  },
  {
   "cell_type": "code",
   "execution_count": null,
   "metadata": {},
   "outputs": [],
   "source": [
    "plt.imshow(star_data, cmap=plt.cm.gray)"
   ]
  },
  {
   "cell_type": "markdown",
   "metadata": {},
   "source": [
    "### Notice the origin is in the upper left corner (the image is upside down)"
   ]
  },
  {
   "cell_type": "code",
   "execution_count": null,
   "metadata": {},
   "outputs": [],
   "source": [
    "plt.imshow(star_data, origin='lower', cmap=plt.cm.gray)"
   ]
  },
  {
   "cell_type": "markdown",
   "metadata": {},
   "source": [
    "### Better, the origin is in the lower left corner"
   ]
  },
  {
   "cell_type": "markdown",
   "metadata": {},
   "source": [
    "## World Coordinate System `wcs`"
   ]
  },
  {
   "cell_type": "code",
   "execution_count": null,
   "metadata": {},
   "outputs": [],
   "source": [
    "from astropy.wcs import WCS"
   ]
  },
  {
   "cell_type": "code",
   "execution_count": null,
   "metadata": {},
   "outputs": [],
   "source": [
    "my_wcs = WCS(star_header)"
   ]
  },
  {
   "cell_type": "code",
   "execution_count": null,
   "metadata": {},
   "outputs": [],
   "source": [
    "my_wcs"
   ]
  },
  {
   "cell_type": "code",
   "execution_count": null,
   "metadata": {},
   "outputs": [],
   "source": [
    "fig = plt.figure()\n",
    "ax = fig.add_subplot(111, projection=my_wcs)\n",
    "\n",
    "fig.set_size_inches(6,6)\n",
    "\n",
    "fig.tight_layout()\n",
    "\n",
    "ax.grid(color='y', ls='-')\n",
    "ax.set_xlabel('Right Ascension (J2000)')\n",
    "ax.set_ylabel('Declination (J2000)')\n",
    "\n",
    "ax.imshow(star_data, origin='lower', cmap=plt.cm.gray);"
   ]
  },
  {
   "cell_type": "markdown",
   "metadata": {},
   "source": [
    "# RGB - Pseudocolor Images"
   ]
  },
  {
   "cell_type": "code",
   "execution_count": null,
   "metadata": {},
   "outputs": [],
   "source": [
    "from astropy.visualization import make_lupton_rgb"
   ]
  },
  {
   "cell_type": "code",
   "execution_count": null,
   "metadata": {},
   "outputs": [],
   "source": [
    "red_img = fits.getdata(\"./MyData/m51_IR.fits\").astype(float)\n",
    "green_img = fits.getdata(\"./MyData/m51_red.fits\").astype(float)\n",
    "blue_img= fits.getdata(\"./MyData/m51_blue.fits\").astype(float)"
   ]
  },
  {
   "cell_type": "code",
   "execution_count": null,
   "metadata": {},
   "outputs": [],
   "source": [
    "clean_r =  red_img - np.median(red_img)\n",
    "clean_g =  green_img - np.median(green_img)\n",
    "clean_b =  blue_img - np.median(blue_img)"
   ]
  },
  {
   "cell_type": "code",
   "execution_count": null,
   "metadata": {},
   "outputs": [],
   "source": [
    "fig, ax = plt.subplots(1,3)\n",
    "fig.set_size_inches(12,6)\n",
    "\n",
    "fig.tight_layout()\n",
    "\n",
    "ax[0].set_title(\"R\")\n",
    "ax[1].set_title(\"G\")\n",
    "ax[2].set_title(\"B\")\n",
    "\n",
    "ax[0].imshow(clean_r, origin='lower', cmap=plt.cm.gray)\n",
    "ax[1].imshow(clean_g, origin='lower', cmap=plt.cm.gray);\n",
    "ax[2].imshow(clean_b, origin='lower', cmap=plt.cm.gray);"
   ]
  },
  {
   "cell_type": "code",
   "execution_count": null,
   "metadata": {},
   "outputs": [],
   "source": [
    "image = make_lupton_rgb(clean_r, clean_g, clean_b, stretch = 5000)"
   ]
  },
  {
   "cell_type": "code",
   "execution_count": null,
   "metadata": {
    "scrolled": false
   },
   "outputs": [],
   "source": [
    "fig, ax = plt.subplots(1,1)\n",
    "fig.set_size_inches(6,6)\n",
    "\n",
    "fig.tight_layout()\n",
    "\n",
    "ax.imshow(image, origin='lower', cmap=plt.cm.gray);"
   ]
  },
  {
   "cell_type": "markdown",
   "metadata": {},
   "source": [
    "---\n",
    "## Sigma Clipping"
   ]
  },
  {
   "cell_type": "code",
   "execution_count": null,
   "metadata": {},
   "outputs": [],
   "source": [
    "from astropy import stats"
   ]
  },
  {
   "cell_type": "code",
   "execution_count": null,
   "metadata": {},
   "outputs": [],
   "source": [
    "my_data = np.array([1, 5, 6, 8, 100, 5, 3, 2, 4, 5])\n",
    "\n",
    "my_data.mean(), my_data.std()"
   ]
  },
  {
   "cell_type": "code",
   "execution_count": null,
   "metadata": {},
   "outputs": [],
   "source": [
    "filtered_data = stats.sigma_clip(my_data, sigma=2, iters=5) \n",
    "\n",
    "filtered_data"
   ]
  },
  {
   "cell_type": "markdown",
   "metadata": {},
   "source": [
    "#### Rejected Data"
   ]
  },
  {
   "cell_type": "code",
   "execution_count": null,
   "metadata": {},
   "outputs": [],
   "source": [
    "my_data[filtered_data.mask]"
   ]
  },
  {
   "cell_type": "markdown",
   "metadata": {},
   "source": [
    "#### Accepted Data"
   ]
  },
  {
   "cell_type": "code",
   "execution_count": null,
   "metadata": {},
   "outputs": [],
   "source": [
    "my_data[~filtered_data.mask]"
   ]
  },
  {
   "cell_type": "markdown",
   "metadata": {},
   "source": [
    "## Sigma clipping an image"
   ]
  },
  {
   "cell_type": "code",
   "execution_count": null,
   "metadata": {},
   "outputs": [],
   "source": [
    "star_data.mean(), star_data.std(), star_data.max(), star_data.min()"
   ]
  },
  {
   "cell_type": "code",
   "execution_count": null,
   "metadata": {},
   "outputs": [],
   "source": [
    "clip_star = stats.sigma_clip(star_data, sigma=8, iters=5) "
   ]
  },
  {
   "cell_type": "code",
   "execution_count": null,
   "metadata": {},
   "outputs": [],
   "source": [
    "copy_data = np.copy(star_data)        # make a copy of the data to work with\n",
    "\n",
    "copy_data[~clip_star.mask] = star_data.min()"
   ]
  },
  {
   "cell_type": "code",
   "execution_count": null,
   "metadata": {},
   "outputs": [],
   "source": [
    "fig, ax = plt.subplots(1,2)\n",
    "\n",
    "fig.set_size_inches(12,6)\n",
    "\n",
    "fig.tight_layout()\n",
    "\n",
    "ax[0].imshow(star_data, origin='lower', cmap=plt.cm.gray)\n",
    "ax[1].imshow(copy_data, origin='lower', cmap=plt.cm.gray);"
   ]
  },
  {
   "cell_type": "raw",
   "metadata": {},
   "source": []
  }
 ],
 "metadata": {
  "anaconda-cloud": {},
  "kernelspec": {
   "display_name": "Python 3",
   "language": "python",
   "name": "python3"
  },
  "language_info": {
   "codemirror_mode": {
    "name": "ipython",
    "version": 3
   },
   "file_extension": ".py",
   "mimetype": "text/x-python",
   "name": "python",
   "nbconvert_exporter": "python",
   "pygments_lexer": "ipython3",
   "version": "3.6.3"
  }
 },
 "nbformat": 4,
 "nbformat_minor": 1
}
