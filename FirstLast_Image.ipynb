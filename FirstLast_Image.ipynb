{
 "cells": [
  {
   "cell_type": "markdown",
   "metadata": {},
   "source": [
    "## First Last - Image"
   ]
  },
  {
   "cell_type": "code",
   "execution_count": null,
   "metadata": {
    "collapsed": true
   },
   "outputs": [],
   "source": [
    "%matplotlib inline\n",
    "\n",
    "import numpy as np\n",
    "import matplotlib.pyplot as plt\n",
    "\n",
    "import astropy.io.fits as fits\n",
    "\n",
    "from astropy.wcs import WCS\n",
    "from astropy.visualization import make_lupton_rgb\n",
    "from astropy import stats"
   ]
  },
  {
   "cell_type": "markdown",
   "metadata": {},
   "source": [
    "# Digitized Sky Survey (DSS)"
   ]
  },
  {
   "cell_type": "markdown",
   "metadata": {},
   "source": [
    "The Digitized Sky Survey is a multiwavelength survey of the sky produced by scanning the photographic Sky Survey plates from the Palomar and UK Schmidt telescopes.\n",
    "\n",
    "You can download images from the [ESO Online Digitized Sky Survey](http://archive.eso.org/dss/dss)"
   ]
  },
  {
   "cell_type": "markdown",
   "metadata": {},
   "source": [
    "## Part 1:"
   ]
  },
  {
   "cell_type": "markdown",
   "metadata": {},
   "source": [
    "- Download a 15 arcmin x 15 acrmin DSS-2-blue FITS image near the [North Galactic Pole](https://en.wikipedia.org/wiki/Galactic_coordinate_system)\n",
    "\n",
    "- Download a 15 arcmin x 15 acrmin DSS-2-red FITS image near the [Galactic center](https://en.wikipedia.org/wiki/Galactic_coordinate_system).\n",
    "\n",
    "* Plot the two images with coordinates\n",
    "* Plot a 5-sigma cut of each of the images\n",
    "* The images should be nice with labels"
   ]
  },
  {
   "cell_type": "code",
   "execution_count": null,
   "metadata": {},
   "outputs": [],
   "source": []
  },
  {
   "cell_type": "markdown",
   "metadata": {},
   "source": [
    "## Part 2:"
   ]
  },
  {
   "cell_type": "markdown",
   "metadata": {},
   "source": [
    "- Pick a cool [Messier object](https://en.wikipedia.org/wiki/List_of_Messier_objects) with Declination  > 0.\n",
    "\n",
    "* Download a DSS-2-infrared, DSS-2-red, and DSS-2-blue FITS images for the object.\n",
    "\n",
    "- Create a pseudocolor RGB image from:\n",
    "\n",
    "  * red = DSS-2-infrared\n",
    "  * green = DSS-2-infrared\n",
    "  * blue = DSS-2-blue\n",
    "\n",
    "- You will have to experimant with the `stretch` to get a good image\n",
    "* The image should be 10in x 10in, with labels."
   ]
  },
  {
   "cell_type": "code",
   "execution_count": null,
   "metadata": {},
   "outputs": [],
   "source": []
  },
  {
   "cell_type": "markdown",
   "metadata": {},
   "source": [
    "## Part 3"
   ]
  },
  {
   "cell_type": "markdown",
   "metadata": {},
   "source": [
    "For the next Astro 300 class we are going to use an online interface to the LaTeX scientific typesetting system. \n",
    "To do this, you will need to sign up for a free account on the ShareLaTeX system before the next class.\n",
    "\n",
    "* Remember your account name and password, we will use them during class. \n",
    "\n",
    "* Please use the following link to sign up for the system: https://www.sharelatex.com?r=f33161ec&rm=d&rs=b "
   ]
  },
  {
   "cell_type": "markdown",
   "metadata": {},
   "source": [
    "### Due Tue Nov 21 - 5pm\n",
    "\n",
    "- `Make sure to change the filename to your name!`\n",
    "- `Make sure to change the Title to your name!`\n",
    "- `File -> Download as -> HTML (.html)`\n",
    "- `upload your .html and .ipynb file to the class Canvas page`  "
   ]
  },
  {
   "cell_type": "code",
   "execution_count": null,
   "metadata": {},
   "outputs": [],
   "source": []
  }
 ],
 "metadata": {
  "anaconda-cloud": {},
  "kernelspec": {
   "display_name": "Python 3",
   "language": "python",
   "name": "python3"
  },
  "language_info": {
   "codemirror_mode": {
    "name": "ipython",
    "version": 3
   },
   "file_extension": ".py",
   "mimetype": "text/x-python",
   "name": "python",
   "nbconvert_exporter": "python",
   "pygments_lexer": "ipython3",
   "version": "3.6.3"
  }
 },
 "nbformat": 4,
 "nbformat_minor": 1
}
