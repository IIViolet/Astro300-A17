{
 "cells": [
  {
   "cell_type": "markdown",
   "metadata": {},
   "source": [
    "# First Last - Observing with `astroplan`"
   ]
  },
  {
   "cell_type": "markdown",
   "metadata": {},
   "source": [
    "* I have given you three locations, some constraints, and list of targets: `TargetStars.csv`.\n",
    "* You are observing on June 21, 2018.\n",
    "* Your job is to determine which of the three locations can see the most targets, given the constraints.\n",
    "* Points awarded will depend on how clearly you support your answer."
   ]
  },
  {
   "cell_type": "markdown",
   "metadata": {},
   "source": [
    "# Date: June 21, 2018.\n",
    "\n",
    "---\n",
    "\n",
    "# Locations\n",
    "\n",
    "- Grytviken, South Georgia Island\n",
    "- Bairiki, South Tarawa, Kiribati\n",
    "- Lochboisdale, Outer Hebrides, Scotland\n",
    "\n",
    "---\n",
    "\n",
    "# Constraints\n",
    "\n",
    "- Observing at (local) night\n",
    "- Airmass < 2\n",
    "- Moon Separation > 30 degrees\n",
    "\n",
    "---"
   ]
  },
  {
   "cell_type": "code",
   "execution_count": null,
   "metadata": {},
   "outputs": [],
   "source": []
  },
  {
   "cell_type": "markdown",
   "metadata": {},
   "source": [
    "### Due Tue Nov 14 - 5pm\n",
    "- `Make sure to change the filename to your name!`\n",
    "- `Make sure to change the Title to your name!`\n",
    "- `File -> Download as -> HTML (.html)`\n",
    "- `upload your .html and .ipynb file to the class Canvas page`  "
   ]
  }
 ],
 "metadata": {
  "anaconda-cloud": {},
  "kernelspec": {
   "display_name": "Python 3",
   "language": "python",
   "name": "python3"
  },
  "language_info": {
   "codemirror_mode": {
    "name": "ipython",
    "version": 3
   },
   "file_extension": ".py",
   "mimetype": "text/x-python",
   "name": "python",
   "nbconvert_exporter": "python",
   "pygments_lexer": "ipython3",
   "version": "3.6.3"
  }
 },
 "nbformat": 4,
 "nbformat_minor": 1
}
