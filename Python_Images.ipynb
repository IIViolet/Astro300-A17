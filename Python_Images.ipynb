{
 "cells": [
  {
   "cell_type": "markdown",
   "metadata": {},
   "source": [
    "# Images in Python"
   ]
  },
  {
   "cell_type": "code",
   "execution_count": null,
   "metadata": {},
   "outputs": [],
   "source": [
    "%matplotlib inline\n",
    "\n",
    "import numpy as np\n",
    "import matplotlib.pyplot as plt"
   ]
  },
  {
   "cell_type": "markdown",
   "metadata": {},
   "source": [
    "### Working with images in python is essentially a visual way of working with 2-d arrays (matrices)\n",
    "\n",
    "## Matrices\n",
    "\n",
    "$$\n",
    "\\left[\n",
    "\\begin{array}{ccc}\n",
    "1 & 3 & 5 \\\\\n",
    "2 & 5 & 1 \\\\\n",
    "2 & 3 & 8 \n",
    "\\end{array}\n",
    "\\right]\n",
    "$$"
   ]
  },
  {
   "cell_type": "code",
   "execution_count": null,
   "metadata": {},
   "outputs": [],
   "source": [
    "my_matrix = np.array([[1,3,5],[2,5,1],[2,3,8]])\n",
    "\n",
    "print(my_matrix)"
   ]
  },
  {
   "cell_type": "markdown",
   "metadata": {},
   "source": [
    "### All of the normal numpy commands work with matrices (of any dimension)"
   ]
  },
  {
   "cell_type": "code",
   "execution_count": null,
   "metadata": {},
   "outputs": [],
   "source": [
    "my_matrix.mean()        # mean of the whole matrix"
   ]
  },
  {
   "cell_type": "markdown",
   "metadata": {},
   "source": [
    "### You can work over just the rows or columns of the matrix\n",
    "\n",
    "* axis = 0 (COLUMNS)\n",
    "* axis = 1 (ROWS)"
   ]
  },
  {
   "cell_type": "code",
   "execution_count": null,
   "metadata": {},
   "outputs": [],
   "source": [
    "my_matrix.mean(axis=0)   # mean of the columns"
   ]
  },
  {
   "cell_type": "code",
   "execution_count": null,
   "metadata": {},
   "outputs": [],
   "source": [
    "my_matrix.mean(axis=0)[0]  # mean of the 0th column"
   ]
  },
  {
   "cell_type": "code",
   "execution_count": null,
   "metadata": {},
   "outputs": [],
   "source": [
    "np.mean(my_matrix, axis=0)  # alternative"
   ]
  },
  {
   "cell_type": "code",
   "execution_count": null,
   "metadata": {},
   "outputs": [],
   "source": [
    "my_matrix.mean(axis=1)   # mean of the rows"
   ]
  },
  {
   "cell_type": "code",
   "execution_count": null,
   "metadata": {},
   "outputs": [],
   "source": [
    "my_matrix.flatten()      # convert to 1D (useful for some plotting)"
   ]
  },
  {
   "cell_type": "markdown",
   "metadata": {},
   "source": [
    "## `imshow` will display 2-d arrays as images"
   ]
  },
  {
   "cell_type": "code",
   "execution_count": null,
   "metadata": {},
   "outputs": [],
   "source": [
    "plt.style.use('ggplot')\n",
    "plt.rc('axes', grid=False)   # turn off the background grid for images"
   ]
  },
  {
   "cell_type": "code",
   "execution_count": null,
   "metadata": {},
   "outputs": [],
   "source": [
    "plt.imshow(my_matrix, interpolation='nearest', cmap=plt.cm.Blues);"
   ]
  },
  {
   "cell_type": "markdown",
   "metadata": {},
   "source": [
    "### Read in some data"
   ]
  },
  {
   "cell_type": "code",
   "execution_count": null,
   "metadata": {},
   "outputs": [],
   "source": [
    "test_image = np.load(\"./MyData/test_data.npy\")    # load in a saved numpy array"
   ]
  },
  {
   "cell_type": "code",
   "execution_count": null,
   "metadata": {},
   "outputs": [],
   "source": [
    "test_image.ndim, test_image.shape, test_image.dtype"
   ]
  },
  {
   "cell_type": "code",
   "execution_count": null,
   "metadata": {},
   "outputs": [],
   "source": [
    "plt.imshow(test_image, cmap=plt.cm.gray);"
   ]
  },
  {
   "cell_type": "code",
   "execution_count": null,
   "metadata": {},
   "outputs": [],
   "source": [
    "print(\"The minimum value of the image is {0:.2f}\".format(test_image.min()))\n",
    "print(\"The maximum value of the image is {0:.2f}\".format(test_image.max()))\n",
    "print(\"The mean value of the image is {0:.2f}\".format(test_image.mean()))\n",
    "print(\"The standard deviation of the image is {0:.2f}\".format(test_image.std()))"
   ]
  },
  {
   "cell_type": "code",
   "execution_count": null,
   "metadata": {},
   "outputs": [],
   "source": [
    "plt.hist(test_image.flatten(),bins=30);    #flatten array to get histogram of whole image"
   ]
  },
  {
   "cell_type": "markdown",
   "metadata": {},
   "source": [
    "### Math on images applies to every value (pixel)"
   ]
  },
  {
   "cell_type": "code",
   "execution_count": null,
   "metadata": {},
   "outputs": [],
   "source": [
    "another_test_image = test_image + 8\n",
    "\n",
    "print(\"The minimum value of the other image is {0:.2f}\".format(another_test_image.min()))\n",
    "print(\"The maximum value of the other image is {0:.2f}\".format(another_test_image.max()))\n",
    "print(\"The mean value of the other image is {0:.2f}\".format(another_test_image.mean()))\n",
    "print(\"The standard deviation of the other image is {0:.2f}\".format(another_test_image.std()))"
   ]
  },
  {
   "cell_type": "markdown",
   "metadata": {},
   "source": [
    "### Show the image represenation of `test_image` with a colorbar"
   ]
  },
  {
   "cell_type": "code",
   "execution_count": null,
   "metadata": {},
   "outputs": [],
   "source": [
    "plt.imshow(test_image, cmap=plt.cm.gray)\n",
    "plt.colorbar();"
   ]
  },
  {
   "cell_type": "markdown",
   "metadata": {},
   "source": [
    "### Colormap reference: http://matplotlib.org/examples/color/colormaps_reference.html"
   ]
  },
  {
   "cell_type": "code",
   "execution_count": null,
   "metadata": {},
   "outputs": [],
   "source": [
    "fig, ax = plt.subplots(1,5,sharey=True)\n",
    "\n",
    "fig.set_size_inches(12,6)\n",
    "\n",
    "fig.tight_layout()\n",
    "\n",
    "ax[0].imshow(test_image, cmap=plt.cm.viridis)\n",
    "ax[0].set_xlabel('viridis')\n",
    "\n",
    "ax[1].imshow(test_image, cmap=plt.cm.hot)\n",
    "ax[1].set_xlabel('hot')\n",
    "\n",
    "ax[2].imshow(test_image, cmap=plt.cm.magma)\n",
    "ax[2].set_xlabel('magma')\n",
    "\n",
    "ax[3].imshow(test_image, cmap=plt.cm.spectral)\n",
    "ax[3].set_xlabel('spectral')\n",
    "\n",
    "ax[4].imshow(test_image, cmap=plt.cm.gray)\n",
    "ax[4].set_xlabel('gray');"
   ]
  },
  {
   "cell_type": "markdown",
   "metadata": {},
   "source": [
    "## WARNING! Common image formats DO NOT preserve dynamic range of original data!!\n",
    "- Common image formats: jpg, gif, png, tiff\n",
    "- Common image formats will re-scale your data values to [0:1]\n",
    "- Common image formats are **NOT** suitable for scientific data!"
   ]
  },
  {
   "cell_type": "code",
   "execution_count": null,
   "metadata": {},
   "outputs": [],
   "source": [
    "plt.imsave('Splash.png', test_image, cmap=plt.cm.gray)     # Write the array I to a PNG file\n",
    "\n",
    "my_png = plt.imread('Splash.png')                          # Read in the PNG file\n",
    "\n",
    "print(\"The original data has a min = {0:.2f} and a max = {1:.2f}\".format(test_image.min(), test_image.max()))\n",
    "\n",
    "print(\"The PNG file has a min = {0:.2f} and a max = {1:.2f}\".format(my_png.min(), my_png.max()))"
   ]
  },
  {
   "cell_type": "markdown",
   "metadata": {},
   "source": [
    "## Creating images from math"
   ]
  },
  {
   "cell_type": "code",
   "execution_count": null,
   "metadata": {},
   "outputs": [],
   "source": [
    "X = np.linspace(-5, 5, 500)\n",
    "Y = np.linspace(-5, 5, 500)\n",
    "\n",
    "X, Y = np.meshgrid(X, Y)     # turns two 1-d arrays (X, Y) into one 2-d grid\n",
    "\n",
    "Z = np.sqrt(X**2+Y**2)+np.sin(X**2+Y**2)\n",
    "\n",
    "Z.min(), Z.max(), Z.mean()"
   ]
  },
  {
   "cell_type": "markdown",
   "metadata": {},
   "source": [
    "### Fancy Image Display"
   ]
  },
  {
   "cell_type": "code",
   "execution_count": null,
   "metadata": {},
   "outputs": [],
   "source": [
    "from matplotlib.colors import LightSource\n",
    "\n",
    "ls = LightSource(azdeg=0,altdeg=40)\n",
    "shadedfig = ls.shade(Z,plt.cm.copper)\n",
    "\n",
    "fig, ax = plt.subplots(1,2)\n",
    "\n",
    "fig.set_size_inches(8,4)\n",
    "\n",
    "fig.tight_layout()\n",
    "\n",
    "ax[0].imshow(shadedfig)\n",
    "\n",
    "contlevels = [1,2,Z.mean()]\n",
    "\n",
    "ax[1].imshow(shadedfig)\n",
    "ax[1].contour(Z,contlevels);"
   ]
  },
  {
   "cell_type": "markdown",
   "metadata": {},
   "source": [
    "### Reading in images (`imread`) - Common Formats"
   ]
  },
  {
   "cell_type": "code",
   "execution_count": null,
   "metadata": {},
   "outputs": [],
   "source": [
    "my_doctor = plt.imread('./MyData/doctor5.png')\n",
    "\n",
    "print(\"The image my_doctor has a shape [height,width] of {0}\".format(my_doctor.shape))\n",
    "print(\"The image my_doctor is made up of data of type {0}\".format(my_doctor.dtype))\n",
    "print(\"The image my_doctor has a maximum value of {0}\".format(my_doctor.max()))\n",
    "print(\"The image my_doctor has a minimum value of {0}\".format(my_doctor.min()))"
   ]
  },
  {
   "cell_type": "code",
   "execution_count": null,
   "metadata": {},
   "outputs": [],
   "source": [
    "plt.imshow(my_doctor,cmap=plt.cm.gray);"
   ]
  },
  {
   "cell_type": "markdown",
   "metadata": {},
   "source": [
    "## Images are just arrays that can be sliced. \n",
    "\n",
    "- ### For common image formats the origin is the upper left hand corner"
   ]
  },
  {
   "cell_type": "code",
   "execution_count": null,
   "metadata": {},
   "outputs": [],
   "source": [
    "fig, ax = plt.subplots(1,4)\n",
    "fig.set_size_inches(12,6)\n",
    "\n",
    "fig.tight_layout()\n",
    "\n",
    "# You can show just slices of the image - Rememeber: The origin is the upper left corner\n",
    "\n",
    "ax[0].imshow(my_doctor, cmap=plt.cm.gray)\n",
    "ax[0].set_xlabel('Original')\n",
    "\n",
    "ax[1].imshow(my_doctor[0:300,0:100], cmap=plt.cm.gray)\n",
    "ax[1].set_xlabel('[0:300,0:100]')                 # 300 rows, 100 columns\n",
    "\n",
    "ax[2].imshow(my_doctor[:,0:100], cmap=plt.cm.gray)       # \":\" = whole range\n",
    "ax[2].set_xlabel('[:,0:100]')                     # all rows, 100 columns\n",
    "\n",
    "ax[3].imshow(my_doctor[:,::-1], cmap=plt.cm.gray);\n",
    "ax[3].set_xlabel('[:,::-1]') ;                     # reverse the columns"
   ]
  },
  {
   "cell_type": "code",
   "execution_count": null,
   "metadata": {},
   "outputs": [],
   "source": [
    "fig, ax = plt.subplots(1,2)\n",
    "fig.set_size_inches(12,6)\n",
    "\n",
    "fig.tight_layout()\n",
    "\n",
    "CutLine = 300\n",
    "\n",
    "ax[0].imshow(my_doctor, cmap=plt.cm.gray)\n",
    "ax[0].hlines(CutLine, 0, 194, color='b', linewidth=3)\n",
    "\n",
    "ax[1].plot(my_doctor[CutLine,:], color='b', linewidth=3)\n",
    "ax[1].set_xlabel(\"X Value\")\n",
    "ax[1].set_ylabel(\"Pixel Value\")"
   ]
  },
  {
   "cell_type": "markdown",
   "metadata": {},
   "source": [
    "## Simple image manipulation"
   ]
  },
  {
   "cell_type": "code",
   "execution_count": null,
   "metadata": {},
   "outputs": [],
   "source": [
    "from scipy import ndimage"
   ]
  },
  {
   "cell_type": "code",
   "execution_count": null,
   "metadata": {},
   "outputs": [],
   "source": [
    "fig, ax = plt.subplots(1,5)\n",
    "fig.set_size_inches(14,6)\n",
    "\n",
    "fig.tight_layout()\n",
    "\n",
    "ax[0].imshow(my_doctor, cmap=plt.cm.gray)\n",
    "\n",
    "my_doctor_2 = ndimage.rotate(my_doctor,45,cval=0.75)               # cval is the value to set pixels outside of image\n",
    "ax[1].imshow(my_doctor_2, cmap=plt.cm.gray)                 # Rotate and reshape\n",
    "\n",
    "my_doctor_3 = ndimage.rotate(my_doctor,45,reshape=False,cval=0.75) # Rotate and do not reshape\n",
    "ax[2].imshow(my_doctor_3, cmap=plt.cm.gray)\n",
    "\n",
    "my_doctor_4 = ndimage.shift(my_doctor,(10,30),cval=0.75)           # Shift image      \n",
    "ax[3].imshow(my_doctor_4, cmap=plt.cm.gray)\n",
    "\n",
    "my_doctor_5 = ndimage.gaussian_filter(my_doctor,5)                # Blur image\n",
    "ax[4].imshow(my_doctor_5, cmap=plt.cm.gray);"
   ]
  },
  {
   "cell_type": "markdown",
   "metadata": {},
   "source": [
    "### `ndimage` can do much more: http://scipy-lectures.github.io/advanced/image_processing/"
   ]
  },
  {
   "cell_type": "markdown",
   "metadata": {},
   "source": [
    "# Pseudocolor - All color astronomy images are fake."
   ]
  },
  {
   "cell_type": "markdown",
   "metadata": {},
   "source": [
    "### Color images are composed of three 2-d images: <img src=\"images/Layers.png\" width=\"150\">"
   ]
  },
  {
   "cell_type": "markdown",
   "metadata": {},
   "source": [
    "### JPG images are 3-d, even grayscale images"
   ]
  },
  {
   "cell_type": "code",
   "execution_count": null,
   "metadata": {},
   "outputs": [],
   "source": [
    "redfilter = plt.imread(\"./MyData/sphereR.jpg\")\n",
    "\n",
    "redfilter.shape,redfilter.dtype"
   ]
  },
  {
   "cell_type": "markdown",
   "metadata": {},
   "source": [
    "### We just want to read in one of the three channels"
   ]
  },
  {
   "cell_type": "code",
   "execution_count": null,
   "metadata": {},
   "outputs": [],
   "source": [
    "redfilter = plt.imread(\"./MyData/sphereR.jpg\")[:,:,0]\n",
    "\n",
    "redfilter.shape,redfilter.dtype"
   ]
  },
  {
   "cell_type": "code",
   "execution_count": null,
   "metadata": {},
   "outputs": [],
   "source": [
    "plt.imshow(redfilter,cmap=plt.cm.gray);"
   ]
  },
  {
   "cell_type": "code",
   "execution_count": null,
   "metadata": {},
   "outputs": [],
   "source": [
    "greenfilter = plt.imread(\"./MyData/sphereG.jpg\")[:,:,0]\n",
    "bluefilter = plt.imread(\"./MyData/sphereB.jpg\")[:,:,0]"
   ]
  },
  {
   "cell_type": "code",
   "execution_count": null,
   "metadata": {},
   "outputs": [],
   "source": [
    "fig, ax = plt.subplots(1,3)\n",
    "fig.set_size_inches(12,3)\n",
    "\n",
    "fig.tight_layout()\n",
    "\n",
    "ax[0].set_title(\"Red Filter\")\n",
    "ax[1].set_title(\"Green Filter\")\n",
    "ax[2].set_title(\"Blue Filter\")\n",
    "\n",
    "ax[0].imshow(redfilter,cmap=plt.cm.gray)\n",
    "ax[1].imshow(greenfilter,cmap=plt.cm.gray)\n",
    "ax[2].imshow(bluefilter,cmap=plt.cm.gray);"
   ]
  },
  {
   "cell_type": "markdown",
   "metadata": {},
   "source": [
    "### Need to create a blank 3-d array to hold all of the images"
   ]
  },
  {
   "cell_type": "code",
   "execution_count": null,
   "metadata": {},
   "outputs": [],
   "source": [
    "rgb = np.zeros((480,640,3),dtype='uint8')\n",
    "\n",
    "print(rgb.shape, rgb.dtype)\n",
    "\n",
    "plt.imshow(rgb,cmap=plt.cm.gray);"
   ]
  },
  {
   "cell_type": "markdown",
   "metadata": {},
   "source": [
    "## Fill the array with the filtered images"
   ]
  },
  {
   "cell_type": "code",
   "execution_count": null,
   "metadata": {},
   "outputs": [],
   "source": [
    "rgb[:,:,0] = redfilter\n",
    "rgb[:,:,1] = greenfilter\n",
    "rgb[:,:,2] = bluefilter"
   ]
  },
  {
   "cell_type": "code",
   "execution_count": null,
   "metadata": {},
   "outputs": [],
   "source": [
    "fig, ax = plt.subplots(1,4)\n",
    "fig.set_size_inches(14,3)\n",
    "\n",
    "fig.tight_layout()\n",
    "\n",
    "ax[0].set_title(\"Red Filter\")\n",
    "ax[1].set_title(\"Green Filter\")\n",
    "ax[2].set_title(\"Blue Filter\")\n",
    "ax[3].set_title(\"All Filters Stacked\")\n",
    "\n",
    "ax[0].imshow(redfilter,cmap=plt.cm.gray)\n",
    "ax[1].imshow(greenfilter,cmap=plt.cm.gray)\n",
    "ax[2].imshow(bluefilter,cmap=plt.cm.gray)\n",
    "ax[3].imshow(rgb,cmap=plt.cm.gray);"
   ]
  },
  {
   "cell_type": "code",
   "execution_count": null,
   "metadata": {},
   "outputs": [],
   "source": [
    "print(\"The image rgb has a shape [height,width] of {0}\".format(rgb.shape))\n",
    "print(\"The image rgb is made up of data of type {0}\".format(rgb.dtype))\n",
    "print(\"The image rgb has a maximum value of {0}\".format(rgb.max()))\n",
    "print(\"The image rgb has a minimum value of {0}\".format(rgb.min()))"
   ]
  },
  {
   "cell_type": "code",
   "execution_count": null,
   "metadata": {},
   "outputs": [],
   "source": [
    "rgb[:,:,0] = redfilter * 1.5\n",
    "\n",
    "plt.imshow(rgb)"
   ]
  }
 ],
 "metadata": {
  "anaconda-cloud": {},
  "kernelspec": {
   "display_name": "Python 3",
   "language": "python",
   "name": "python3"
  },
  "language_info": {
   "codemirror_mode": {
    "name": "ipython",
    "version": 3
   },
   "file_extension": ".py",
   "mimetype": "text/x-python",
   "name": "python",
   "nbconvert_exporter": "python",
   "pygments_lexer": "ipython3",
   "version": "3.6.3"
  }
 },
 "nbformat": 4,
 "nbformat_minor": 1
}
