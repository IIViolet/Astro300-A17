{
 "cells": [
  {
   "cell_type": "markdown",
   "metadata": {},
   "source": [
    "# Astro 322 Homework"
   ]
  },
  {
   "cell_type": "code",
   "execution_count": null,
   "metadata": {},
   "outputs": [],
   "source": [
    "%matplotlib inline\n",
    "\n",
    "import matplotlib.pyplot as plt\n",
    "import numpy as np\n",
    "from astropy.table import QTable"
   ]
  },
  {
   "cell_type": "code",
   "execution_count": null,
   "metadata": {},
   "outputs": [],
   "source": [
    "plt.style.use('ggplot')"
   ]
  },
  {
   "cell_type": "code",
   "execution_count": null,
   "metadata": {},
   "outputs": [],
   "source": [
    "T = QTable.read('M15_Bright.csv', format='ascii.csv')"
   ]
  },
  {
   "cell_type": "code",
   "execution_count": null,
   "metadata": {},
   "outputs": [],
   "source": [
    "fig, ax = plt.subplots(1,1) \n",
    "fig.set_size_inches(15,10)\n",
    "\n",
    "fig.tight_layout()\n",
    "\n",
    "BV = T['Bmag'] - T['Vmag']\n",
    "V = T['Vmag']\n",
    "\n",
    "ax.set_xlim(-0.25,1.5)\n",
    "ax.set_ylim(12,19)\n",
    "\n",
    "ax.set_aspect(1/6) \n",
    "ax.invert_yaxis() \n",
    "ax.set_xlabel(\"B-V\")\n",
    "ax.set_ylabel(\"V\")\n",
    "\n",
    "ax.set_title(\"M15 Color Magnitude Diagram\")\n",
    "\n",
    "ax.plot(BV,V,color=\"b\",marker=\"o\",linestyle=\"None\",markersize=5)\n",
    "\n",
    "ax.text(-0.1, 13.5, 'Horizontal Giant Branch', color='r', fontsize=24)\n",
    "ax.vlines(0.3, 13.7, 15.3, color='r', linewidth=3)\n",
    "\n",
    "mask_color = np.where((V < 16.25) & (BV < 0.55))     \n",
    "\n",
    "ax.plot(BV[mask_color], V[mask_color],color=\"r\",marker=\"o\",linestyle=\"None\",markersize=4, alpha=0.5);"
   ]
  },
  {
   "cell_type": "code",
   "execution_count": null,
   "metadata": {},
   "outputs": [],
   "source": [
    "fig.savefig('m15_cm.png', bbox_inches='tight')"
   ]
  }
 ],
 "metadata": {
  "anaconda-cloud": {},
  "kernelspec": {
   "display_name": "Python 3",
   "language": "python",
   "name": "python3"
  },
  "language_info": {
   "codemirror_mode": {
    "name": "ipython",
    "version": 3
   },
   "file_extension": ".py",
   "mimetype": "text/x-python",
   "name": "python",
   "nbconvert_exporter": "python",
   "pygments_lexer": "ipython3",
   "version": "3.6.3"
  }
 },
 "nbformat": 4,
 "nbformat_minor": 1
}
